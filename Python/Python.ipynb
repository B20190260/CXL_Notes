{
  "nbformat": 4,
  "nbformat_minor": 0,
  "metadata": {
    "colab": {
      "name": "Markdown Guide",
      "version": "0.3.2",
      "provenance": [],
      "collapsed_sections": [],
      "toc_visible": true,
      "include_colab_link": true
    },
    "kernelspec": {
      "display_name": "Python 3",
      "name": "python3"
    }
  },
  "cells": [
    {
      "cell_type": "markdown",
      "metadata": {
        "id": "view-in-github",
        "colab_type": "text"
      },
      "source": [
        "<a href=\"https://colab.research.google.com/github/hustcxl/CXL_Notes/blob/master/Python/Python.ipynb\" target=\"_parent\"><img src=\"https://colab.research.google.com/assets/colab-badge.svg\" alt=\"Open In Colab\"/></a>"
      ]
    },
    {
      "cell_type": "markdown",
      "metadata": {
        "id": "J-HG4eWW_spS",
        "colab_type": "text"
      },
      "source": [
        "# Colaboratory 初体验"
      ]
    },
    {
      "cell_type": "markdown",
      "metadata": {
        "id": "iYlITBvqALUF",
        "colab_type": "text"
      },
      "source": [
        "## 地址\n",
        "[入口](https://colab.research.google.com/notebooks/welcome.ipynb#recent=true)\n",
        "### 使用体验\n",
        "上手很简单，代码执行不需要安装环境，毕竟浏览器上执行，开始还是比较慢的。可能是还没摸索到，调试功能不是很强大。可以连接github是很赞的。"
      ]
    }
  ]
}